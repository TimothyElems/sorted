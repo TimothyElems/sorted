{
 "cells": [
  {
   "cell_type": "code",
   "execution_count": 3,
   "id": "f08e69ef-4fa1-4822-b071-67500c25faaa",
   "metadata": {
    "canvas": {
     "comments": [],
     "componentType": "CodeCell",
     "copiedOriginId": null,
     "diskcache": false,
     "headerColor": "inherit",
     "id": "5d51288d-49ca-4ae3-9a01-557bc8da8931",
     "isComponent": false,
     "name": "",
     "parents": []
    },
    "tags": []
   },
   "outputs": [
    {
     "name": "stdout",
     "output_type": "stream",
     "text": [
      "2022-11-04 12:22:44.874083\n"
     ]
    }
   ],
   "source": [
    "import os\n",
    "import shutil\n",
    "import sched\n",
    "import datetime as dt\n",
    "import time\n",
    "import calendar\n",
    "\n",
    "def runtime():\n",
    "    og_time = dt.datetime.now()\n",
    "    delta = dt.timedelta(0, 0, 5)\n",
    "    print(og_time)\n",
    "    og_time = og_time + delta\n",
    "    print(og_time)\n",
    "    \n",
    "runtime()"
   ]
  },
  {
   "cell_type": "code",
   "execution_count": null,
   "id": "9ae9423e-a695-45fb-b07c-339e54be2113",
   "metadata": {
    "canvas": {
     "comments": [],
     "componentType": "CodeCell",
     "copiedOriginId": null,
     "diskcache": false,
     "headerColor": "inherit",
     "id": "6e59b013-4e49-4084-a8eb-13218cbfce2b",
     "isComponent": false,
     "name": "",
     "parents": []
    }
   },
   "outputs": [],
   "source": []
  },
  {
   "cell_type": "code",
   "execution_count": null,
   "id": "43056569",
   "metadata": {},
   "outputs": [],
   "source": []
  }
 ],
 "metadata": {
  "canvas": {
   "colorPalette": [
    "inherit",
    "inherit",
    "inherit",
    "inherit",
    "inherit",
    "inherit",
    "inherit",
    "inherit",
    "inherit",
    "inherit"
   ],
   "parameters": []
  },
  "kernelspec": {
   "display_name": "Python 3 (ipykernel)",
   "language": "python",
   "name": "python3"
  },
  "language_info": {
   "codemirror_mode": {
    "name": "ipython",
    "version": 3
   },
   "file_extension": ".py",
   "mimetype": "text/x-python",
   "name": "python",
   "nbconvert_exporter": "python",
   "pygments_lexer": "ipython3",
   "version": "3.10.6"
  }
 },
 "nbformat": 4,
 "nbformat_minor": 5
}
